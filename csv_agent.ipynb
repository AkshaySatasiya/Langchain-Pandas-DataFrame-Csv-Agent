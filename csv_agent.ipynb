{
 "cells": [
  {
   "cell_type": "markdown",
   "metadata": {},
   "source": [
    "Import Libraries"
   ]
  },
  {
   "cell_type": "code",
   "execution_count": 1,
   "metadata": {},
   "outputs": [],
   "source": [
    "import os\n",
    "import openai\n",
    "import langchain\n",
    "import pandas as pd\n",
    "from langchain.llms import OpenAI\n",
    "from langchain.chat_models import ChatOpenAI\n",
    "from langchain.agents import initialize_agent, AgentType\n",
    "from langchain_experimental.agents.agent_toolkits import create_csv_agent\n",
    "\n"
   ]
  },
  {
   "cell_type": "code",
   "execution_count": null,
   "metadata": {},
   "outputs": [],
   "source": [
    "# Add your OpenAI API key here\n",
    "os.environ[\"OPENAI_API_KEY\"] = \"YOUR API_KEY HERE\""
   ]
  },
  {
   "cell_type": "markdown",
   "metadata": {},
   "source": [
    "Import Datasets"
   ]
  },
  {
   "cell_type": "code",
   "execution_count": 6,
   "metadata": {},
   "outputs": [],
   "source": [
    "# Add your CSV file path here \n",
    "\n",
    "df1 =  r\"YOUR DATASET PATH\"\n",
    "df2 = r\"YOUR DATASET PATH\"\n",
    "df3 = r\"YOUR DATASET PATH\""
   ]
  },
  {
   "cell_type": "markdown",
   "metadata": {},
   "source": [
    "## Initialize Csv Agent[OpenAI]\n",
    " "
   ]
  },
  {
   "cell_type": "code",
   "execution_count": 11,
   "metadata": {},
   "outputs": [],
   "source": [
    "agent = create_csv_agent(\n",
    "    OpenAI(temperature=0),\n",
    "    [df1,df2,df3],\n",
    "    verbose=True,\n",
    "    agent_type=AgentType.ZERO_SHOT_REACT_DESCRIPTION,\n",
    ")"
   ]
  },
  {
   "cell_type": "code",
   "execution_count": 13,
   "metadata": {},
   "outputs": [
    {
     "name": "stdout",
     "output_type": "stream",
     "text": [
      "\n",
      "\n",
      "\u001b[1m> Entering new AgentExecutor chain...\u001b[0m\n",
      "\u001b[32;1m\u001b[1;3mThought: I need to find the unique values in the 'name' column of the df1 dataframe.\n",
      "Action: python_repl_ast\n",
      "Action Input: df1['name'].unique()\u001b[0m\n",
      "Observation: \u001b[36;1m\u001b[1;3m['Maruti 800 AC' 'Maruti Wagon R LXI Minor' 'Hyundai Verna 1.6 SX' ...\n",
      " 'Mahindra Verito 1.5 D6 BSIII'\n",
      " 'Toyota Innova 2.5 VX (Diesel) 8 Seater BS IV'\n",
      " 'Hyundai i20 Magna 1.4 CRDi']\u001b[0m\n",
      "Thought:\u001b[32;1m\u001b[1;3m I need to count the number of unique values in the output.\n",
      "Action: python_repl_ast\n",
      "Action Input: len(df1['name'].unique())\u001b[0m\n",
      "Observation: \u001b[36;1m\u001b[1;3m1491\u001b[0m\n",
      "Thought:\u001b[32;1m\u001b[1;3m I now know the final answer.\n",
      "Final Answer: There are 1491 unique car brands in the df1 dataframe.\u001b[0m\n",
      "\n",
      "\u001b[1m> Finished chain.\u001b[0m\n"
     ]
    },
    {
     "data": {
      "text/plain": [
       "'There are 1491 unique car brands in the df1 dataframe.'"
      ]
     },
     "execution_count": 13,
     "metadata": {},
     "output_type": "execute_result"
    }
   ],
   "source": [
    "agent.run(\"how many unique car brands do we have ? ?\")"
   ]
  },
  {
   "cell_type": "code",
   "execution_count": 14,
   "metadata": {},
   "outputs": [
    {
     "name": "stdout",
     "output_type": "stream",
     "text": [
      "\n",
      "\n",
      "\u001b[1m> Entering new AgentExecutor chain...\u001b[0m\n",
      "\u001b[32;1m\u001b[1;3mThought: I need to find the row in the dataframe that corresponds to the Maruti Celerio Green VXI\n",
      "Action: python_repl_ast\n",
      "Action Input: df[df['name'] == 'Maruti Celerio Green VXI']\u001b[0m\n",
      "Observation: \u001b[36;1m\u001b[1;3mNameError: name 'df' is not defined\u001b[0m\n",
      "Thought:\u001b[32;1m\u001b[1;3m I need to define the dataframe df\n",
      "Action: python_repl_ast\n",
      "Action Input: df = pd.DataFrame()\u001b[0m\n",
      "Observation: \u001b[36;1m\u001b[1;3m\u001b[0m\n",
      "Thought:\u001b[32;1m\u001b[1;3m I need to add the data from the three dataframes to df\n",
      "Action: python_repl_ast\n",
      "Action Input: df = pd.concat([df1, df2, df3])\u001b[0m\n",
      "Observation: \u001b[36;1m\u001b[1;3m\u001b[0m\n",
      "Thought:\u001b[32;1m\u001b[1;3m I need to find the row in the dataframe that corresponds to the Maruti Celerio Green VXI\n",
      "Action: python_repl_ast\n",
      "Action Input: df[df['name'] == 'Maruti Celerio Green VXI']\u001b[0m\n",
      "Observation: \u001b[36;1m\u001b[1;3m                          name    year  selling_price  km_driven fuel  \\\n",
      "9     Maruti Celerio Green VXI  2017.0       365000.0    78000.0  CNG   \n",
      "22    Maruti Celerio Green VXI  2017.0       365000.0    78000.0  CNG   \n",
      "4001  Maruti Celerio Green VXI  2017.0       365000.0    78000.0  CNG   \n",
      "\n",
      "     seller_type transmission        owner  id city rating rating_count cost  \\\n",
      "9     Individual       Manual  First Owner NaN  NaN    NaN          NaN  NaN   \n",
      "22    Individual       Manual  First Owner NaN  NaN    NaN          NaN  NaN   \n",
      "4001  Individual       Manual  First Owner NaN  NaN    NaN          NaN  NaN   \n",
      "\n",
      "     cuisine lic_no link address menu  Passengerid  Age  Fare  Sex  sibsp  \\\n",
      "9        NaN    NaN  NaN     NaN  NaN          NaN  NaN   NaN  NaN    NaN   \n",
      "22       NaN    NaN  NaN     NaN  NaN          NaN  NaN   NaN  NaN    NaN   \n",
      "4001     NaN    NaN  NaN     NaN  NaN          NaN  NaN   NaN  NaN    NaN   \n",
      "\n",
      "      zero  zero.1  zero.2  zero.3  zero.4  zero.5  zero.6  Parch  zero.7  \\\n",
      "9      NaN     NaN     NaN     NaN     NaN     NaN     NaN    NaN     NaN   \n",
      "22     NaN     NaN     NaN     NaN     NaN     NaN     NaN    NaN     NaN   \n",
      "4001   NaN     NaN     NaN     NaN     NaN     NaN     NaN    NaN     NaN   \n",
      "\n",
      "      zero.8  zero.9  zero.10  zero.11  zero.12  zero.13  zero.14  Pclass  \\\n",
      "9        NaN     NaN      NaN      NaN      NaN      NaN      NaN     NaN   \n",
      "22       NaN     NaN      NaN      NaN      NaN      NaN      NaN     NaN   \n",
      "4001     NaN     NaN      NaN      NaN      NaN      NaN      NaN     NaN   \n",
      "\n",
      "      zero.15  zero.16  Embarked  zero.17  zero.18  2urvived  \n",
      "9         NaN      NaN       NaN      NaN      NaN       NaN  \n",
      "22        NaN      NaN       NaN      NaN      NaN       NaN  \n",
      "4001      NaN      NaN       NaN      NaN      NaN       NaN  \u001b[0m\n",
      "Thought:\u001b[32;1m\u001b[1;3m I need to select the 'selling_price' column from the resulting dataframe\n",
      "Action: python_repl_ast\n",
      "Action Input: df[df['name'] == 'Maruti Celerio Green VXI']['selling_price']\u001b[0m\n",
      "Observation: \u001b[36;1m\u001b[1;3m9       365000.0\n",
      "22      365000.0\n",
      "4001    365000.0\n",
      "Name: selling_price, dtype: float64\u001b[0m\n",
      "Thought:\u001b[32;1m\u001b[1;3m I need to find the average price\n",
      "Action: python_repl_ast\n",
      "Action Input: df[df['name'] == 'Maruti Celerio Green VXI']['selling_price'].mean()\u001b[0m\n",
      "Observation: \u001b[36;1m\u001b[1;3m365000.0\u001b[0m\n",
      "Thought:\u001b[32;1m\u001b[1;3m I now know the final answer\n",
      "Final Answer: The average price of Maruti Celerio Green VXI is 365000.0.\u001b[0m\n",
      "\n",
      "\u001b[1m> Finished chain.\u001b[0m\n"
     ]
    },
    {
     "data": {
      "text/plain": [
       "'The average price of Maruti Celerio Green VXI is 365000.0.'"
      ]
     },
     "execution_count": 14,
     "metadata": {},
     "output_type": "execute_result"
    }
   ],
   "source": [
    "agent.run(\"what is the price of Maruti Celerio Green VXI\")"
   ]
  },
  {
   "cell_type": "markdown",
   "metadata": {},
   "source": [
    "#### Lets Change the Agent type and LLM Model"
   ]
  },
  {
   "cell_type": "code",
   "execution_count": 15,
   "metadata": {},
   "outputs": [
    {
     "name": "stderr",
     "output_type": "stream",
     "text": [
      "c:\\Users\\admin\\UpForce\\Company Projects\\UniversalChatBot\\venv\\lib\\site-packages\\langchain_core\\_api\\deprecation.py:117: LangChainDeprecationWarning: The class `langchain_community.chat_models.openai.ChatOpenAI` was deprecated in langchain-community 0.1.0 and will be removed in 0.2.0. Use langchain_openai.ChatOpenAI instead.\n",
      "  warn_deprecated(\n"
     ]
    }
   ],
   "source": [
    "agent = create_csv_agent(\n",
    "    ChatOpenAI(temperature=0, model=\"gpt-3.5-turbo-0613\"),\n",
    "    [df1,df2,df3],\n",
    "    verbose=True,\n",
    "    agent_type=AgentType.OPENAI_FUNCTIONS,\n",
    ")"
   ]
  },
  {
   "cell_type": "code",
   "execution_count": 18,
   "metadata": {},
   "outputs": [
    {
     "name": "stdout",
     "output_type": "stream",
     "text": [
      "\n",
      "\n",
      "\u001b[1m> Entering new AgentExecutor chain...\u001b[0m\n",
      "\u001b[32;1m\u001b[1;3m\n",
      "Invoking: `python_repl_ast` with `{'query': \"df3['2urvived'].sum()\"}`\n",
      "\n",
      "\n",
      "\u001b[0m\u001b[36;1m\u001b[1;3m342\u001b[0m\u001b[32;1m\u001b[1;3mThere are 342 passengers who are alive.\u001b[0m\n",
      "\n",
      "\u001b[1m> Finished chain.\u001b[0m\n"
     ]
    },
    {
     "data": {
      "text/plain": [
       "'There are 342 passengers who are alive.'"
      ]
     },
     "execution_count": 18,
     "metadata": {},
     "output_type": "execute_result"
    }
   ],
   "source": [
    "agent.run(\"HOW MANY PASSENGERS ARE ALIVE? \")"
   ]
  },
  {
   "cell_type": "code",
   "execution_count": 20,
   "metadata": {},
   "outputs": [
    {
     "name": "stdout",
     "output_type": "stream",
     "text": [
      "\n",
      "\n",
      "\u001b[1m> Entering new AgentExecutor chain...\u001b[0m\n",
      "\u001b[32;1m\u001b[1;3m\n",
      "Invoking: `python_repl_ast` with `{'query': 'df3.shape[0]'}`\n",
      "\n",
      "\n",
      "\u001b[0m\u001b[36;1m\u001b[1;3m1309\u001b[0m\u001b[32;1m\u001b[1;3mWe have a total of 1309 passengers.\u001b[0m\n",
      "\n",
      "\u001b[1m> Finished chain.\u001b[0m\n"
     ]
    },
    {
     "data": {
      "text/plain": [
       "'We have a total of 1309 passengers.'"
      ]
     },
     "execution_count": 20,
     "metadata": {},
     "output_type": "execute_result"
    }
   ],
   "source": [
    "agent.run(\"how many passengers do we have ? \")"
   ]
  },
  {
   "cell_type": "code",
   "execution_count": 21,
   "metadata": {},
   "outputs": [
    {
     "name": "stdout",
     "output_type": "stream",
     "text": [
      "\n",
      "\n",
      "\u001b[1m> Entering new AgentExecutor chain...\u001b[0m\n",
      "\u001b[32;1m\u001b[1;3m\n",
      "Invoking: `python_repl_ast` with `{'query': \"len(df2['city'].unique())\"}`\n",
      "\n",
      "\n",
      "\u001b[0m\u001b[36;1m\u001b[1;3m821\u001b[0m\u001b[32;1m\u001b[1;3mThere are 821 unique cities in the dataset.\u001b[0m\n",
      "\n",
      "\u001b[1m> Finished chain.\u001b[0m\n"
     ]
    },
    {
     "data": {
      "text/plain": [
       "'There are 821 unique cities in the dataset.'"
      ]
     },
     "execution_count": 21,
     "metadata": {},
     "output_type": "execute_result"
    }
   ],
   "source": [
    "agent.run(\"how many unique cities we have ? \")"
   ]
  }
 ],
 "metadata": {
  "kernelspec": {
   "display_name": "Python 3",
   "language": "python",
   "name": "python3"
  },
  "language_info": {
   "codemirror_mode": {
    "name": "ipython",
    "version": 3
   },
   "file_extension": ".py",
   "mimetype": "text/x-python",
   "name": "python",
   "nbconvert_exporter": "python",
   "pygments_lexer": "ipython3",
   "version": "3.10.0"
  }
 },
 "nbformat": 4,
 "nbformat_minor": 2
}
