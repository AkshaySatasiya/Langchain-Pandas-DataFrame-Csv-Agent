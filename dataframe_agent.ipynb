{
 "cells": [
  {
   "cell_type": "code",
   "execution_count": 1,
   "metadata": {},
   "outputs": [],
   "source": [
    "import os\n",
    "import openai\n",
    "import langchain\n",
    "import pandas as pd\n",
    "from langchain.llms import OpenAI\n",
    "from langchain.chat_models import ChatOpenAI\n",
    "from langchain.agents import initialize_agent, AgentType\n",
    "from langchain_experimental.agents.agent_toolkits import create_pandas_dataframe_agent\n"
   ]
  },
  {
   "cell_type": "code",
   "execution_count": null,
   "metadata": {},
   "outputs": [],
   "source": [
    "# Add your OpenAI API key here\n",
    "os.environ[\"OPENAI_API_KEY\"] = \"YOUR API_KEY HERE\""
   ]
  },
  {
   "cell_type": "markdown",
   "metadata": {},
   "source": [
    "- Pandas Dataframe"
   ]
  },
  {
   "cell_type": "code",
   "execution_count": 2,
   "metadata": {},
   "outputs": [],
   "source": [
    "# Add your CSV file path here \n",
    "\n",
    "df1 =  r\"YOUR DATASET PATH\"\n",
    "df2 = r\"YOUR DATASET PATH\"\n",
    "df3 = r\"YOUR DATASET PATH\""
   ]
  },
  {
   "cell_type": "code",
   "execution_count": 3,
   "metadata": {},
   "outputs": [
    {
     "data": {
      "text/html": [
       "<div>\n",
       "<style scoped>\n",
       "    .dataframe tbody tr th:only-of-type {\n",
       "        vertical-align: middle;\n",
       "    }\n",
       "\n",
       "    .dataframe tbody tr th {\n",
       "        vertical-align: top;\n",
       "    }\n",
       "\n",
       "    .dataframe thead th {\n",
       "        text-align: right;\n",
       "    }\n",
       "</style>\n",
       "<table border=\"1\" class=\"dataframe\">\n",
       "  <thead>\n",
       "    <tr style=\"text-align: right;\">\n",
       "      <th></th>\n",
       "      <th>name</th>\n",
       "      <th>year</th>\n",
       "      <th>selling_price</th>\n",
       "      <th>km_driven</th>\n",
       "      <th>fuel</th>\n",
       "      <th>seller_type</th>\n",
       "      <th>transmission</th>\n",
       "      <th>owner</th>\n",
       "    </tr>\n",
       "  </thead>\n",
       "  <tbody>\n",
       "    <tr>\n",
       "      <th>0</th>\n",
       "      <td>Maruti 800 AC</td>\n",
       "      <td>2007</td>\n",
       "      <td>60000</td>\n",
       "      <td>70000</td>\n",
       "      <td>Petrol</td>\n",
       "      <td>Individual</td>\n",
       "      <td>Manual</td>\n",
       "      <td>First Owner</td>\n",
       "    </tr>\n",
       "    <tr>\n",
       "      <th>1</th>\n",
       "      <td>Maruti Wagon R LXI Minor</td>\n",
       "      <td>2007</td>\n",
       "      <td>135000</td>\n",
       "      <td>50000</td>\n",
       "      <td>Petrol</td>\n",
       "      <td>Individual</td>\n",
       "      <td>Manual</td>\n",
       "      <td>First Owner</td>\n",
       "    </tr>\n",
       "    <tr>\n",
       "      <th>2</th>\n",
       "      <td>Hyundai Verna 1.6 SX</td>\n",
       "      <td>2012</td>\n",
       "      <td>600000</td>\n",
       "      <td>100000</td>\n",
       "      <td>Diesel</td>\n",
       "      <td>Individual</td>\n",
       "      <td>Manual</td>\n",
       "      <td>First Owner</td>\n",
       "    </tr>\n",
       "    <tr>\n",
       "      <th>3</th>\n",
       "      <td>Datsun RediGO T Option</td>\n",
       "      <td>2017</td>\n",
       "      <td>250000</td>\n",
       "      <td>46000</td>\n",
       "      <td>Petrol</td>\n",
       "      <td>Individual</td>\n",
       "      <td>Manual</td>\n",
       "      <td>First Owner</td>\n",
       "    </tr>\n",
       "    <tr>\n",
       "      <th>4</th>\n",
       "      <td>Honda Amaze VX i-DTEC</td>\n",
       "      <td>2014</td>\n",
       "      <td>450000</td>\n",
       "      <td>141000</td>\n",
       "      <td>Diesel</td>\n",
       "      <td>Individual</td>\n",
       "      <td>Manual</td>\n",
       "      <td>Second Owner</td>\n",
       "    </tr>\n",
       "  </tbody>\n",
       "</table>\n",
       "</div>"
      ],
      "text/plain": [
       "                       name  year  selling_price  km_driven    fuel  \\\n",
       "0             Maruti 800 AC  2007          60000      70000  Petrol   \n",
       "1  Maruti Wagon R LXI Minor  2007         135000      50000  Petrol   \n",
       "2      Hyundai Verna 1.6 SX  2012         600000     100000  Diesel   \n",
       "3    Datsun RediGO T Option  2017         250000      46000  Petrol   \n",
       "4     Honda Amaze VX i-DTEC  2014         450000     141000  Diesel   \n",
       "\n",
       "  seller_type transmission         owner  \n",
       "0  Individual       Manual   First Owner  \n",
       "1  Individual       Manual   First Owner  \n",
       "2  Individual       Manual   First Owner  \n",
       "3  Individual       Manual   First Owner  \n",
       "4  Individual       Manual  Second Owner  "
      ]
     },
     "execution_count": 3,
     "metadata": {},
     "output_type": "execute_result"
    }
   ],
   "source": [
    "df1.head()"
   ]
  },
  {
   "cell_type": "code",
   "execution_count": 4,
   "metadata": {},
   "outputs": [
    {
     "data": {
      "text/html": [
       "<div>\n",
       "<style scoped>\n",
       "    .dataframe tbody tr th:only-of-type {\n",
       "        vertical-align: middle;\n",
       "    }\n",
       "\n",
       "    .dataframe tbody tr th {\n",
       "        vertical-align: top;\n",
       "    }\n",
       "\n",
       "    .dataframe thead th {\n",
       "        text-align: right;\n",
       "    }\n",
       "</style>\n",
       "<table border=\"1\" class=\"dataframe\">\n",
       "  <thead>\n",
       "    <tr style=\"text-align: right;\">\n",
       "      <th></th>\n",
       "      <th>id</th>\n",
       "      <th>name</th>\n",
       "      <th>city</th>\n",
       "      <th>rating</th>\n",
       "      <th>rating_count</th>\n",
       "      <th>cost</th>\n",
       "      <th>cuisine</th>\n",
       "      <th>lic_no</th>\n",
       "      <th>link</th>\n",
       "      <th>address</th>\n",
       "      <th>menu</th>\n",
       "    </tr>\n",
       "  </thead>\n",
       "  <tbody>\n",
       "    <tr>\n",
       "      <th>0</th>\n",
       "      <td>567335</td>\n",
       "      <td>AB FOODS POINT</td>\n",
       "      <td>Abohar</td>\n",
       "      <td>--</td>\n",
       "      <td>Too Few Ratings</td>\n",
       "      <td>₹ 200</td>\n",
       "      <td>Beverages,Pizzas</td>\n",
       "      <td>22122652000138</td>\n",
       "      <td>https://www.swiggy.com/restaurants/ab-foods-po...</td>\n",
       "      <td>AB FOODS POINT, NEAR RISHI NARANG DENTAL CLINI...</td>\n",
       "      <td>Menu/567335.json</td>\n",
       "    </tr>\n",
       "    <tr>\n",
       "      <th>1</th>\n",
       "      <td>531342</td>\n",
       "      <td>Janta Sweet House</td>\n",
       "      <td>Abohar</td>\n",
       "      <td>4.4</td>\n",
       "      <td>50+ ratings</td>\n",
       "      <td>₹ 200</td>\n",
       "      <td>Sweets,Bakery</td>\n",
       "      <td>12117201000112</td>\n",
       "      <td>https://www.swiggy.com/restaurants/janta-sweet...</td>\n",
       "      <td>Janta Sweet House, Bazar No.9, Circullar Road,...</td>\n",
       "      <td>Menu/531342.json</td>\n",
       "    </tr>\n",
       "    <tr>\n",
       "      <th>2</th>\n",
       "      <td>158203</td>\n",
       "      <td>theka coffee desi</td>\n",
       "      <td>Abohar</td>\n",
       "      <td>3.8</td>\n",
       "      <td>100+ ratings</td>\n",
       "      <td>₹ 100</td>\n",
       "      <td>Beverages</td>\n",
       "      <td>22121652000190</td>\n",
       "      <td>https://www.swiggy.com/restaurants/theka-coffe...</td>\n",
       "      <td>theka coffee desi, sahtiya sadan road city</td>\n",
       "      <td>Menu/158203.json</td>\n",
       "    </tr>\n",
       "    <tr>\n",
       "      <th>3</th>\n",
       "      <td>187912</td>\n",
       "      <td>Singh Hut</td>\n",
       "      <td>Abohar</td>\n",
       "      <td>3.7</td>\n",
       "      <td>20+ ratings</td>\n",
       "      <td>₹ 250</td>\n",
       "      <td>Fast Food,Indian</td>\n",
       "      <td>22119652000167</td>\n",
       "      <td>https://www.swiggy.com/restaurants/singh-hut-n...</td>\n",
       "      <td>Singh Hut, CIRCULAR ROAD NEAR NEHRU PARK ABOHAR</td>\n",
       "      <td>Menu/187912.json</td>\n",
       "    </tr>\n",
       "    <tr>\n",
       "      <th>4</th>\n",
       "      <td>543530</td>\n",
       "      <td>GRILL MASTERS</td>\n",
       "      <td>Abohar</td>\n",
       "      <td>--</td>\n",
       "      <td>Too Few Ratings</td>\n",
       "      <td>₹ 250</td>\n",
       "      <td>Italian-American,Fast Food</td>\n",
       "      <td>12122201000053</td>\n",
       "      <td>https://www.swiggy.com/restaurants/grill-maste...</td>\n",
       "      <td>GRILL MASTERS, ADA Heights, Abohar - Hanumanga...</td>\n",
       "      <td>Menu/543530.json</td>\n",
       "    </tr>\n",
       "  </tbody>\n",
       "</table>\n",
       "</div>"
      ],
      "text/plain": [
       "       id               name    city rating     rating_count   cost  \\\n",
       "0  567335     AB FOODS POINT  Abohar     --  Too Few Ratings  ₹ 200   \n",
       "1  531342  Janta Sweet House  Abohar    4.4      50+ ratings  ₹ 200   \n",
       "2  158203  theka coffee desi  Abohar    3.8     100+ ratings  ₹ 100   \n",
       "3  187912          Singh Hut  Abohar    3.7      20+ ratings  ₹ 250   \n",
       "4  543530      GRILL MASTERS  Abohar     --  Too Few Ratings  ₹ 250   \n",
       "\n",
       "                      cuisine          lic_no  \\\n",
       "0            Beverages,Pizzas  22122652000138   \n",
       "1               Sweets,Bakery  12117201000112   \n",
       "2                   Beverages  22121652000190   \n",
       "3            Fast Food,Indian  22119652000167   \n",
       "4  Italian-American,Fast Food  12122201000053   \n",
       "\n",
       "                                                link  \\\n",
       "0  https://www.swiggy.com/restaurants/ab-foods-po...   \n",
       "1  https://www.swiggy.com/restaurants/janta-sweet...   \n",
       "2  https://www.swiggy.com/restaurants/theka-coffe...   \n",
       "3  https://www.swiggy.com/restaurants/singh-hut-n...   \n",
       "4  https://www.swiggy.com/restaurants/grill-maste...   \n",
       "\n",
       "                                             address              menu  \n",
       "0  AB FOODS POINT, NEAR RISHI NARANG DENTAL CLINI...  Menu/567335.json  \n",
       "1  Janta Sweet House, Bazar No.9, Circullar Road,...  Menu/531342.json  \n",
       "2         theka coffee desi, sahtiya sadan road city  Menu/158203.json  \n",
       "3    Singh Hut, CIRCULAR ROAD NEAR NEHRU PARK ABOHAR  Menu/187912.json  \n",
       "4  GRILL MASTERS, ADA Heights, Abohar - Hanumanga...  Menu/543530.json  "
      ]
     },
     "execution_count": 4,
     "metadata": {},
     "output_type": "execute_result"
    }
   ],
   "source": [
    "df2.head()"
   ]
  },
  {
   "cell_type": "code",
   "execution_count": 5,
   "metadata": {},
   "outputs": [
    {
     "data": {
      "text/html": [
       "<div>\n",
       "<style scoped>\n",
       "    .dataframe tbody tr th:only-of-type {\n",
       "        vertical-align: middle;\n",
       "    }\n",
       "\n",
       "    .dataframe tbody tr th {\n",
       "        vertical-align: top;\n",
       "    }\n",
       "\n",
       "    .dataframe thead th {\n",
       "        text-align: right;\n",
       "    }\n",
       "</style>\n",
       "<table border=\"1\" class=\"dataframe\">\n",
       "  <thead>\n",
       "    <tr style=\"text-align: right;\">\n",
       "      <th></th>\n",
       "      <th>Passengerid</th>\n",
       "      <th>Age</th>\n",
       "      <th>Fare</th>\n",
       "      <th>Sex</th>\n",
       "      <th>sibsp</th>\n",
       "      <th>zero</th>\n",
       "      <th>zero.1</th>\n",
       "      <th>zero.2</th>\n",
       "      <th>zero.3</th>\n",
       "      <th>zero.4</th>\n",
       "      <th>...</th>\n",
       "      <th>zero.12</th>\n",
       "      <th>zero.13</th>\n",
       "      <th>zero.14</th>\n",
       "      <th>Pclass</th>\n",
       "      <th>zero.15</th>\n",
       "      <th>zero.16</th>\n",
       "      <th>Embarked</th>\n",
       "      <th>zero.17</th>\n",
       "      <th>zero.18</th>\n",
       "      <th>2urvived</th>\n",
       "    </tr>\n",
       "  </thead>\n",
       "  <tbody>\n",
       "    <tr>\n",
       "      <th>0</th>\n",
       "      <td>1</td>\n",
       "      <td>22.0</td>\n",
       "      <td>7.2500</td>\n",
       "      <td>0</td>\n",
       "      <td>1</td>\n",
       "      <td>0</td>\n",
       "      <td>0</td>\n",
       "      <td>0</td>\n",
       "      <td>0</td>\n",
       "      <td>0</td>\n",
       "      <td>...</td>\n",
       "      <td>0</td>\n",
       "      <td>0</td>\n",
       "      <td>0</td>\n",
       "      <td>3</td>\n",
       "      <td>0</td>\n",
       "      <td>0</td>\n",
       "      <td>2.0</td>\n",
       "      <td>0</td>\n",
       "      <td>0</td>\n",
       "      <td>0</td>\n",
       "    </tr>\n",
       "    <tr>\n",
       "      <th>1</th>\n",
       "      <td>2</td>\n",
       "      <td>38.0</td>\n",
       "      <td>71.2833</td>\n",
       "      <td>1</td>\n",
       "      <td>1</td>\n",
       "      <td>0</td>\n",
       "      <td>0</td>\n",
       "      <td>0</td>\n",
       "      <td>0</td>\n",
       "      <td>0</td>\n",
       "      <td>...</td>\n",
       "      <td>0</td>\n",
       "      <td>0</td>\n",
       "      <td>0</td>\n",
       "      <td>1</td>\n",
       "      <td>0</td>\n",
       "      <td>0</td>\n",
       "      <td>0.0</td>\n",
       "      <td>0</td>\n",
       "      <td>0</td>\n",
       "      <td>1</td>\n",
       "    </tr>\n",
       "    <tr>\n",
       "      <th>2</th>\n",
       "      <td>3</td>\n",
       "      <td>26.0</td>\n",
       "      <td>7.9250</td>\n",
       "      <td>1</td>\n",
       "      <td>0</td>\n",
       "      <td>0</td>\n",
       "      <td>0</td>\n",
       "      <td>0</td>\n",
       "      <td>0</td>\n",
       "      <td>0</td>\n",
       "      <td>...</td>\n",
       "      <td>0</td>\n",
       "      <td>0</td>\n",
       "      <td>0</td>\n",
       "      <td>3</td>\n",
       "      <td>0</td>\n",
       "      <td>0</td>\n",
       "      <td>2.0</td>\n",
       "      <td>0</td>\n",
       "      <td>0</td>\n",
       "      <td>1</td>\n",
       "    </tr>\n",
       "    <tr>\n",
       "      <th>3</th>\n",
       "      <td>4</td>\n",
       "      <td>35.0</td>\n",
       "      <td>53.1000</td>\n",
       "      <td>1</td>\n",
       "      <td>1</td>\n",
       "      <td>0</td>\n",
       "      <td>0</td>\n",
       "      <td>0</td>\n",
       "      <td>0</td>\n",
       "      <td>0</td>\n",
       "      <td>...</td>\n",
       "      <td>0</td>\n",
       "      <td>0</td>\n",
       "      <td>0</td>\n",
       "      <td>1</td>\n",
       "      <td>0</td>\n",
       "      <td>0</td>\n",
       "      <td>2.0</td>\n",
       "      <td>0</td>\n",
       "      <td>0</td>\n",
       "      <td>1</td>\n",
       "    </tr>\n",
       "    <tr>\n",
       "      <th>4</th>\n",
       "      <td>5</td>\n",
       "      <td>35.0</td>\n",
       "      <td>8.0500</td>\n",
       "      <td>0</td>\n",
       "      <td>0</td>\n",
       "      <td>0</td>\n",
       "      <td>0</td>\n",
       "      <td>0</td>\n",
       "      <td>0</td>\n",
       "      <td>0</td>\n",
       "      <td>...</td>\n",
       "      <td>0</td>\n",
       "      <td>0</td>\n",
       "      <td>0</td>\n",
       "      <td>3</td>\n",
       "      <td>0</td>\n",
       "      <td>0</td>\n",
       "      <td>2.0</td>\n",
       "      <td>0</td>\n",
       "      <td>0</td>\n",
       "      <td>0</td>\n",
       "    </tr>\n",
       "  </tbody>\n",
       "</table>\n",
       "<p>5 rows × 28 columns</p>\n",
       "</div>"
      ],
      "text/plain": [
       "   Passengerid   Age     Fare  Sex  sibsp  zero  zero.1  zero.2  zero.3  \\\n",
       "0            1  22.0   7.2500    0      1     0       0       0       0   \n",
       "1            2  38.0  71.2833    1      1     0       0       0       0   \n",
       "2            3  26.0   7.9250    1      0     0       0       0       0   \n",
       "3            4  35.0  53.1000    1      1     0       0       0       0   \n",
       "4            5  35.0   8.0500    0      0     0       0       0       0   \n",
       "\n",
       "   zero.4  ...  zero.12  zero.13  zero.14  Pclass  zero.15  zero.16  Embarked  \\\n",
       "0       0  ...        0        0        0       3        0        0       2.0   \n",
       "1       0  ...        0        0        0       1        0        0       0.0   \n",
       "2       0  ...        0        0        0       3        0        0       2.0   \n",
       "3       0  ...        0        0        0       1        0        0       2.0   \n",
       "4       0  ...        0        0        0       3        0        0       2.0   \n",
       "\n",
       "   zero.17  zero.18  2urvived  \n",
       "0        0        0         0  \n",
       "1        0        0         1  \n",
       "2        0        0         1  \n",
       "3        0        0         1  \n",
       "4        0        0         0  \n",
       "\n",
       "[5 rows x 28 columns]"
      ]
     },
     "execution_count": 5,
     "metadata": {},
     "output_type": "execute_result"
    }
   ],
   "source": [
    "df3.head()"
   ]
  },
  {
   "cell_type": "code",
   "execution_count": 6,
   "metadata": {},
   "outputs": [
    {
     "name": "stderr",
     "output_type": "stream",
     "text": [
      "c:\\Users\\admin\\UpForce\\Company Projects\\UniversalChatBot\\venv\\lib\\site-packages\\langchain_core\\_api\\deprecation.py:117: LangChainDeprecationWarning: The class `langchain_community.chat_models.openai.ChatOpenAI` was deprecated in langchain-community 0.1.0 and will be removed in 0.2.0. Use langchain_openai.ChatOpenAI instead.\n",
      "  warn_deprecated(\n"
     ]
    }
   ],
   "source": [
    "agent = create_pandas_dataframe_agent(\n",
    "    ChatOpenAI(temperature=0.1, model=\"gpt-3.5-turbo-0613\"),\n",
    "    [df1,df2,df3],\n",
    "    verbose=True,\n",
    "    agent_type=AgentType.OPENAI_FUNCTIONS,\n",
    ")"
   ]
  },
  {
   "cell_type": "code",
   "execution_count": 7,
   "metadata": {},
   "outputs": [
    {
     "name": "stderr",
     "output_type": "stream",
     "text": [
      "c:\\Users\\admin\\UpForce\\Company Projects\\UniversalChatBot\\venv\\lib\\site-packages\\langchain_core\\_api\\deprecation.py:117: LangChainDeprecationWarning: The function `run` was deprecated in LangChain 0.1.0 and will be removed in 0.2.0. Use invoke instead.\n",
      "  warn_deprecated(\n"
     ]
    },
    {
     "name": "stdout",
     "output_type": "stream",
     "text": [
      "\n",
      "\n",
      "\u001b[1m> Entering new AgentExecutor chain...\u001b[0m\n",
      "\u001b[32;1m\u001b[1;3m\n",
      "Invoking: `python_repl_ast` with `{'query': \"df1['name'].apply(lambda x: x.split()[0]).value_counts().head(5).index.tolist()\"}`\n",
      "\n",
      "\n",
      "\u001b[0m\u001b[36;1m\u001b[1;3m['Maruti', 'Hyundai', 'Mahindra', 'Tata', 'Honda']\u001b[0m\u001b[32;1m\u001b[1;3mThe top 5 car brands are:\n",
      "1. Maruti\n",
      "2. Hyundai\n",
      "3. Mahindra\n",
      "4. Tata\n",
      "5. Honda\u001b[0m\n",
      "\n",
      "\u001b[1m> Finished chain.\u001b[0m\n"
     ]
    },
    {
     "data": {
      "text/plain": [
       "'The top 5 car brands are:\\n1. Maruti\\n2. Hyundai\\n3. Mahindra\\n4. Tata\\n5. Honda'"
      ]
     },
     "execution_count": 7,
     "metadata": {},
     "output_type": "execute_result"
    }
   ],
   "source": [
    "agent.run(\"list down top 5 car brands\")"
   ]
  },
  {
   "cell_type": "code",
   "execution_count": 8,
   "metadata": {},
   "outputs": [
    {
     "name": "stdout",
     "output_type": "stream",
     "text": [
      "\n",
      "\n",
      "\u001b[1m> Entering new AgentExecutor chain...\u001b[0m\n",
      "\u001b[32;1m\u001b[1;3m\n",
      "Invoking: `python_repl_ast` with `{'query': \"df3['2urvived'].sum()\"}`\n",
      "\n",
      "\n",
      "\u001b[0m\u001b[36;1m\u001b[1;3m342\u001b[0m\u001b[32;1m\u001b[1;3mThere are 342 passengers who are still alive.\u001b[0m\n",
      "\n",
      "\u001b[1m> Finished chain.\u001b[0m\n"
     ]
    },
    {
     "data": {
      "text/plain": [
       "'There are 342 passengers who are still alive.'"
      ]
     },
     "execution_count": 8,
     "metadata": {},
     "output_type": "execute_result"
    }
   ],
   "source": [
    "agent.run(\"how many passengers are still alive?\")"
   ]
  },
  {
   "cell_type": "code",
   "execution_count": 9,
   "metadata": {},
   "outputs": [
    {
     "name": "stdout",
     "output_type": "stream",
     "text": [
      "\n",
      "\n",
      "\u001b[1m> Entering new AgentExecutor chain...\u001b[0m\n",
      "\u001b[32;1m\u001b[1;3m\n",
      "Invoking: `python_repl_ast` with `{'query': \"len(df2['city'].unique())\"}`\n",
      "\n",
      "\n",
      "\u001b[0m\u001b[36;1m\u001b[1;3m821\u001b[0m\u001b[32;1m\u001b[1;3mThere are 821 unique cities in the dataset.\u001b[0m\n",
      "\n",
      "\u001b[1m> Finished chain.\u001b[0m\n"
     ]
    },
    {
     "data": {
      "text/plain": [
       "'There are 821 unique cities in the dataset.'"
      ]
     },
     "execution_count": 9,
     "metadata": {},
     "output_type": "execute_result"
    }
   ],
   "source": [
    "agent.run(\"how many unique cities do we have ?\")"
   ]
  },
  {
   "cell_type": "code",
   "execution_count": 10,
   "metadata": {},
   "outputs": [
    {
     "name": "stdout",
     "output_type": "stream",
     "text": [
      "\n",
      "\n",
      "\u001b[1m> Entering new AgentExecutor chain...\u001b[0m\n",
      "\u001b[32;1m\u001b[1;3m\n",
      "Invoking: `python_repl_ast` with `{'query': \"df1[df1['owner'] == 'First Owner'].shape[0]\"}`\n",
      "\n",
      "\n",
      "\u001b[0m\u001b[36;1m\u001b[1;3m2832\u001b[0m\u001b[32;1m\u001b[1;3mThere are 2,832 cars that are listed as \"First Owner\" in the dataframe.\u001b[0m\n",
      "\n",
      "\u001b[1m> Finished chain.\u001b[0m\n"
     ]
    },
    {
     "data": {
      "text/plain": [
       "'There are 2,832 cars that are listed as \"First Owner\" in the dataframe.'"
      ]
     },
     "execution_count": 10,
     "metadata": {},
     "output_type": "execute_result"
    }
   ],
   "source": [
    "agent.run(\"how many cars are the First Ownerd\")"
   ]
  }
 ],
 "metadata": {
  "kernelspec": {
   "display_name": "Python 3",
   "language": "python",
   "name": "python3"
  },
  "language_info": {
   "codemirror_mode": {
    "name": "ipython",
    "version": 3
   },
   "file_extension": ".py",
   "mimetype": "text/x-python",
   "name": "python",
   "nbconvert_exporter": "python",
   "pygments_lexer": "ipython3",
   "version": "3.10.0"
  }
 },
 "nbformat": 4,
 "nbformat_minor": 2
}
